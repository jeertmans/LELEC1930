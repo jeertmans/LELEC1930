{
 "cells": [
  {
   "cell_type": "markdown",
   "id": "d8b98435",
   "metadata": {},
   "source": [
    "# Exercice 1 : Calcul du BER d'une QAM-4"
   ]
  },
  {
   "cell_type": "code",
   "execution_count": 1,
   "id": "672b7b3d",
   "metadata": {},
   "outputs": [],
   "source": [
    "import numpy as np\n",
    "from scipy.spatial import distance_matrix\n",
    "import matplotlib.pyplot as plt"
   ]
  },
  {
   "cell_type": "code",
   "execution_count": 2,
   "id": "f353fe23",
   "metadata": {},
   "outputs": [],
   "source": [
    "def rand(N):\n",
    "    \"\"\"\n",
    "    Crée un vecteur de N valeurs aléatoires valant soit -1, soit 1.\n",
    "    \"\"\"\n",
    "    x = np.random.randint(2, size=N)  # Soit 0, soit 1\n",
    "    x *= 2  # Soit 0, soit 2\n",
    "    return x - 1  # Soit -1, soit 1\n",
    "\n",
    "\n",
    "def randn(N, s=1):\n",
    "    \"\"\"\n",
    "    Crée un vecteur de N valeurs aléatoires centrées en 0 et de variance s.\n",
    "    \"\"\"\n",
    "    return np.random.randn(N) * np.sqrt(s)\n",
    "\n",
    "\n",
    "def complex2real(z):\n",
    "    \"\"\"\n",
    "    Convertit un vecteur de nombres complexes en un vecteur de 2 nombres réels (partie réelle et imag.).\n",
    "    \"\"\"\n",
    "    real = np.real(z)\n",
    "    imag = np.imag(z)\n",
    "    return np.column_stack([real, imag])\n",
    "\n",
    "\n",
    "def real2complex(x):\n",
    "    \"\"\"\n",
    "    Fonction inverse de la fonction complex2real.\n",
    "    \"\"\"\n",
    "    real, imag = x.T\n",
    "    return real + 1j * imag\n",
    "\n",
    "\n",
    "def closest_symbols(y):\n",
    "    \"\"\"\n",
    "    Retournes x_hat en fonction de y, à savoir le symbole le plus proche dans la constellation.\n",
    "    \"\"\"\n",
    "    symbols = np.array([1 + 1j, 1 - 1j, -1 + 1j, -1 - 1j])\n",
    "\n",
    "    # Comme la fonction distance_matrix fonctionne avec des nombres réels,\n",
    "    # on transforme le vecteur de nombres complexes en vecteur de 2 nombres réels\n",
    "\n",
    "    symbols = complex2real(symbols)\n",
    "    y = complex2real(y)\n",
    "\n",
    "    distances = distance_matrix(y, symbols)\n",
    "    # On récupère, pour chaque point, l'indice du symbole le plus proche\n",
    "    closest_indices = np.argmin(distances, axis=1)\n",
    "\n",
    "    return real2complex(symbols[closest_indices])\n",
    "\n",
    "\n",
    "def ber(x, x_hat):\n",
    "    \"\"\"\n",
    "    Calcule le BER entre x et x_hat (son estimation).\n",
    "    \"\"\"\n",
    "    errors = x != x_hat\n",
    "\n",
    "    return np.sum(errors) / len(x)\n",
    "\n",
    "\n",
    "def plot_constellation(x, symbol=\"x\"):\n",
    "    plt.figure(figsize=(6, 6))\n",
    "    plt.scatter(np.real(x), np.imag(x))\n",
    "    plt.xlabel(r\"$\\Re({x})$\".format(x=symbol))\n",
    "    plt.ylabel(r\"$\\Im({x})$\".format(x=symbol))\n",
    "    plt.axis(\"equal\")\n",
    "\n",
    "\n",
    "def plot_snr_vs_ber(SNR, BER):\n",
    "    plt.figure(figsize=(6, 6))\n",
    "    plt.semilogy(10 * np.log10(SNR), BER)\n",
    "    plt.xlabel(\"SNR (dB)\")\n",
    "    plt.ylabel(\"BER\")"
   ]
  },
  {
   "cell_type": "code",
   "execution_count": 3,
   "id": "eb4fc436",
   "metadata": {},
   "outputs": [],
   "source": [
    "N = int(1e6)  # Par défaut, la notation 1eX = 10^X crée un nombre à virgule\n",
    "\n",
    "\n",
    "x = rand(N) + 1j * rand(N)"
   ]
  },
  {
   "cell_type": "code",
   "execution_count": 4,
   "id": "7658cd6d",
   "metadata": {},
   "outputs": [
    {
     "data": {
      "image/png": "[encoded data removed]",
      "text/plain": [
       "<Figure size 432x432 with 1 Axes>"
      ]
     },
     "metadata": {
      "needs_background": "light"
     },
     "output_type": "display_data"
    }
   ],
   "source": [
    "# Les points sont situés sur l'un des 4 coins\n",
    "plot_constellation(x)"
   ]
  },
  {
   "cell_type": "code",
   "execution_count": 5,
   "id": "82405f39",
   "metadata": {},
   "outputs": [
    {
     "data": {
      "image/png": "[encoded data removed]",
      "text/plain": [
       "<Figure size 432x432 with 1 Axes>"
      ]
     },
     "metadata": {
      "needs_background": "light"
     },
     "output_type": "display_data"
    }
   ],
   "source": [
    "s = 1e-2\n",
    "\n",
    "n = randn(N, s / 2) + 1j * randn(N, s / 2)\n",
    "\n",
    "y = x + n\n",
    "\n",
    "plot_constellation(y, symbol=\"y\")"
   ]
  },
  {
   "cell_type": "code",
   "execution_count": 6,
   "id": "c61dbf6c",
   "metadata": {},
   "outputs": [
    {
     "data": {
      "text/plain": [
       "array([ 1.+1.j,  1.-1.j,  1.-1.j, ..., -1.+1.j, -1.-1.j,  1.+1.j])"
      ]
     },
     "execution_count": 6,
     "metadata": {},
     "output_type": "execute_result"
    }
   ],
   "source": [
    "x_hat = closest_symbols(y)\n",
    "x_hat"
   ]
  },
  {
   "cell_type": "code",
   "execution_count": 7,
   "id": "d274dbac",
   "metadata": {},
   "outputs": [
    {
     "data": {
      "text/plain": [
       "0.0"
      ]
     },
     "execution_count": 7,
     "metadata": {},
     "output_type": "execute_result"
    }
   ],
   "source": [
    "ber(x, x_hat)"
   ]
  },
  {
   "cell_type": "code",
   "execution_count": 8,
   "id": "689f43ca",
   "metadata": {},
   "outputs": [],
   "source": [
    "BER = []\n",
    "SNR = []\n",
    "\n",
    "for s in np.logspace(-2, 1, 25):\n",
    "\n",
    "    n = randn(N, s / 2) + 1j * randn(N, s / 2)\n",
    "\n",
    "    y = x + n\n",
    "\n",
    "    x_hat = closest_symbols(y)\n",
    "\n",
    "    snr = 2 / s\n",
    "    SNR.append(snr)\n",
    "    BER.append(ber(x, x_hat))"
   ]
  },
  {
   "cell_type": "code",
   "execution_count": 9,
   "id": "b97dc351",
   "metadata": {},
   "outputs": [
    {
     "data": {
      "image/png": "[encoded data removed]",
      "text/plain": [
       "<Figure size 432x432 with 1 Axes>"
      ]
     },
     "metadata": {
      "needs_background": "light"
     },
     "output_type": "display_data"
    }
   ],
   "source": [
    "plot_snr_vs_ber(SNR, BER)\n",
    "\n",
    "# On a bien un résultat similaire à https://www.raymaps.com/index.php/qam-theoretical-ber/"
   ]
  },
  {
   "cell_type": "markdown",
   "id": "2f9f0550",
   "metadata": {},
   "source": [
    "# Exercice 2 : DCT"
   ]
  },
  {
   "cell_type": "code",
   "execution_count": null,
   "id": "636870fe",
   "metadata": {},
   "outputs": [],
   "source": []
  }
 ],
 "metadata": {
  "kernelspec": {
   "display_name": "Python 3 (ipykernel)",
   "language": "python",
   "name": "python3"
  },
  "language_info": {
   "codemirror_mode": {
    "name": "ipython",
    "version": 3
   },
   "file_extension": ".py",
   "mimetype": "text/x-python",
   "name": "python",
   "nbconvert_exporter": "python",
   "pygments_lexer": "ipython3",
   "version": "3.9.7"
  }
 },
 "nbformat": 4,
 "nbformat_minor": 5
}
